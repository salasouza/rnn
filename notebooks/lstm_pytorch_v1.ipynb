{
 "cells": [
  {
   "cell_type": "markdown",
   "id": "33e413f4-890b-44cf-968c-b508552e69b3",
   "metadata": {},
   "source": [
    "<h2>LSTM in pytorch and Wandb</h2>"
   ]
  },
  {
   "cell_type": "code",
   "execution_count": null,
   "id": "6d9412a8-5e77-4220-bcab-e51be72b5423",
   "metadata": {},
   "outputs": [],
   "source": [
    "#@libraries using in work\n",
    "\n",
    "import numpy as np\n",
    "import matplotlib.pyplot as plt\n",
    "from matplotlib.pyplot import figure\n",
    "\n",
    "#@library for optimization\n",
    "import wandb as wb # Optimization\n",
    "\n",
    "#@libraries using in Pytorch\n",
    "import torch\n",
    "import torch.nn as nn\n",
    "import torch.nn.functional as f\n",
    "import torch.optim as optim\n",
    "import torch.utils.data as Dataset\n",
    "import torch.utils.data as DataLoader\n",
    "\n",
    "#@Libraries for import Stocks\n",
    "from yahoo_fin.stock_info import get_data\n",
    "\n",
    "#@libraries for adjust time\n",
    "import datetime as dt\n",
    "print(\"Libraries loaded\")"
   ]
  },
  {
   "cell_type": "code",
   "execution_count": null,
   "id": "882796eb-dba6-49c6-820a-18f229e8275e",
   "metadata": {},
   "outputs": [],
   "source": []
  },
  {
   "cell_type": "code",
   "execution_count": null,
   "id": "78de6167-4214-47bf-a39b-bd4590491afc",
   "metadata": {},
   "outputs": [],
   "source": []
  },
  {
   "cell_type": "code",
   "execution_count": null,
   "id": "dacc9e7a-5705-458c-99e7-bc325f7a71ea",
   "metadata": {},
   "outputs": [],
   "source": []
  },
  {
   "cell_type": "code",
   "execution_count": null,
   "id": "06b2298a-1f42-43f8-803d-8bc84bd04b91",
   "metadata": {},
   "outputs": [],
   "source": []
  },
  {
   "cell_type": "code",
   "execution_count": null,
   "id": "85804c68-5361-4335-9b2b-18fbab52581a",
   "metadata": {},
   "outputs": [],
   "source": []
  },
  {
   "cell_type": "code",
   "execution_count": null,
   "id": "1abae4d6-1be9-4cff-8e78-864599e7420c",
   "metadata": {},
   "outputs": [],
   "source": []
  }
 ],
 "metadata": {
  "kernelspec": {
   "display_name": "Python 3 (ipykernel)",
   "language": "python",
   "name": "python3"
  },
  "language_info": {
   "codemirror_mode": {
    "name": "ipython",
    "version": 3
   },
   "file_extension": ".py",
   "mimetype": "text/x-python",
   "name": "python",
   "nbconvert_exporter": "python",
   "pygments_lexer": "ipython3",
   "version": "3.11.4"
  }
 },
 "nbformat": 4,
 "nbformat_minor": 5
}
